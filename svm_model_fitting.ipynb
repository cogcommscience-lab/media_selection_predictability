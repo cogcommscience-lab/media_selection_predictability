{
 "cells": [
  {
   "cell_type": "code",
   "execution_count": 13,
   "id": "9bf3c098",
   "metadata": {},
   "outputs": [],
   "source": [
    "import pandas as pd\n",
    "import sklearn\n",
    "import patsy\n",
    "import numpy as np\n",
    "from sklearn.svm import SVC\n",
    "from sklearn.pipeline import make_pipeline\n",
    "from sklearn.preprocessing import StandardScaler\n",
    "from sklearn.metrics import accuracy_score"
   ]
  },
  {
   "cell_type": "code",
   "execution_count": 2,
   "id": "3032d7b1",
   "metadata": {},
   "outputs": [],
   "source": [
    "df_train = pd.read_csv(\"df_train.csv\")\n",
    "df_test = pd.read_csv(\"df_test.csv\")"
   ]
  },
  {
   "cell_type": "code",
   "execution_count": 9,
   "id": "37a38708",
   "metadata": {},
   "outputs": [],
   "source": [
    "y_train, x_train = patsy.dmatrices(\"key ~ valence_diff + mood_valence + age + race + gender +\"+\n",
    "                                   \"arousal_diff + mood_arousal\", data=df_train)\n",
    "y_train = np.asarray(y_train).flatten()\n",
    "labels = x_train.design_info.column_names\n",
    "x_train = np.asarray(x_train)\n",
    "\n",
    "par_train = df_train.participant.to_numpy()\n",
    "\n",
    "y_test, x_test = patsy.dmatrices(\"key ~ valence_diff + mood_valence + age + race + gender +\"+\n",
    "                                   \"arousal_diff + mood_arousal\", data=df_test)"
   ]
  },
  {
   "cell_type": "code",
   "execution_count": 17,
   "id": "cdc417dd",
   "metadata": {},
   "outputs": [
    {
     "data": {
      "text/plain": [
       "Pipeline(steps=[('svc', SVC(gamma='auto'))])"
      ]
     },
     "execution_count": 17,
     "metadata": {},
     "output_type": "execute_result"
    }
   ],
   "source": [
    "clf = make_pipeline(SVC(gamma='auto'))\n",
    "clf.fit(x_train, y_train)"
   ]
  },
  {
   "cell_type": "code",
   "execution_count": 18,
   "id": "a56ddc95",
   "metadata": {},
   "outputs": [
    {
     "name": "stdout",
     "output_type": "stream",
     "text": [
      "test accuracy =  0.634\n",
      "train accuracy =  0.653\n"
     ]
    }
   ],
   "source": [
    "y_test_pred = clf.predict(x_test)\n",
    "print(f\"test accuracy = {accuracy_score(y_true=y_test, y_pred=y_test_pred): 0.3f}\")\n",
    "y_train_pred = clf.predict(x_train)\n",
    "print(f\"train accuracy = {accuracy_score(y_true=y_train, y_pred=y_train_pred): 0.3f}\")"
   ]
  },
  {
   "cell_type": "code",
   "execution_count": null,
   "id": "bef96193",
   "metadata": {},
   "outputs": [],
   "source": []
  }
 ],
 "metadata": {
  "kernelspec": {
   "display_name": "Python 3 (ipykernel)",
   "language": "python",
   "name": "python3"
  },
  "language_info": {
   "codemirror_mode": {
    "name": "ipython",
    "version": 3
   },
   "file_extension": ".py",
   "mimetype": "text/x-python",
   "name": "python",
   "nbconvert_exporter": "python",
   "pygments_lexer": "ipython3",
   "version": "3.7.8"
  }
 },
 "nbformat": 4,
 "nbformat_minor": 5
}
