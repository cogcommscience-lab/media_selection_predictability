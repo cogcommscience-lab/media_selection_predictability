{
 "cells": [
  {
   "cell_type": "code",
   "execution_count": 1,
   "id": "7d9ddd61",
   "metadata": {},
   "outputs": [],
   "source": [
    "import pandas as pd"
   ]
  },
  {
   "cell_type": "code",
   "execution_count": null,
   "id": "715b8005",
   "metadata": {},
   "outputs": [],
   "source": [
    "df = pd.read_csv(\"choice_prediction_movie_category.csv\")"
   ]
  },
  {
   "cell_type": "code",
   "execution_count": null,
   "id": "673d70ff",
   "metadata": {},
   "outputs": [],
   "source": [
    "df_train, df_test = train_test_split(df, train_size=0.8, random_state=123, stratify=df.participant)"
   ]
  },
  {
   "cell_type": "code",
   "execution_count": null,
   "id": "6ed6b286",
   "metadata": {},
   "outputs": [],
   "source": [
    "df_train[\"participant\"] = df_train.participant.astype(str)\n",
    "df_test[\"participant\"] = df_test.participant.astype(str)"
   ]
  },
  {
   "cell_type": "code",
   "execution_count": null,
   "id": "fbe6254f",
   "metadata": {},
   "outputs": [],
   "source": [
    "df_train.to_csv(\"df_train.csv\")\n",
    "df_test.to_csv(\"df_test.csv\")"
   ]
  },
  {
   "cell_type": "code",
   "execution_count": null,
   "id": "d4a241fa",
   "metadata": {},
   "outputs": [],
   "source": []
  }
 ],
 "metadata": {
  "kernelspec": {
   "display_name": "Python 3 (ipykernel)",
   "language": "python",
   "name": "python3"
  },
  "language_info": {
   "codemirror_mode": {
    "name": "ipython",
    "version": 3
   },
   "file_extension": ".py",
   "mimetype": "text/x-python",
   "name": "python",
   "nbconvert_exporter": "python",
   "pygments_lexer": "ipython3",
   "version": "3.7.8"
  }
 },
 "nbformat": 4,
 "nbformat_minor": 5
}
